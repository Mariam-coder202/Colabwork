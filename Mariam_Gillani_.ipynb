{
  "nbformat": 4,
  "nbformat_minor": 0,
  "metadata": {
    "colab": {
      "provenance": [],
      "authorship_tag": "ABX9TyPZLnFWfFDSBwQ+pw+TLi6v",
      "include_colab_link": true
    },
    "kernelspec": {
      "name": "python3",
      "display_name": "Python 3"
    },
    "language_info": {
      "name": "python"
    }
  },
  "cells": [
    {
      "cell_type": "markdown",
      "metadata": {
        "id": "view-in-github",
        "colab_type": "text"
      },
      "source": [
        "<a href=\"https://colab.research.google.com/github/Mariam-coder202/Colabwork/blob/main/Mariam_Gillani_.ipynb\" target=\"_parent\"><img src=\"https://colab.research.google.com/assets/colab-badge.svg\" alt=\"Open In Colab\"/></a>"
      ]
    },
    {
      "cell_type": "code",
      "source": [
        "!pip install pandas numpy matplotlib seaborn plotly\n"
      ],
      "metadata": {
        "colab": {
          "base_uri": "https://localhost:8080/"
        },
        "collapsed": true,
        "id": "r5IeVSQQ6V2C",
        "outputId": "2dc2cc1f-4aa6-4f0a-f420-2786d7be51d4"
      },
      "execution_count": null,
      "outputs": [
        {
          "output_type": "stream",
          "name": "stdout",
          "text": [
            "Requirement already satisfied: pandas in /usr/local/lib/python3.10/dist-packages (2.2.2)\n",
            "Requirement already satisfied: numpy in /usr/local/lib/python3.10/dist-packages (1.26.4)\n",
            "Requirement already satisfied: matplotlib in /usr/local/lib/python3.10/dist-packages (3.8.0)\n",
            "Requirement already satisfied: seaborn in /usr/local/lib/python3.10/dist-packages (0.13.2)\n",
            "Requirement already satisfied: plotly in /usr/local/lib/python3.10/dist-packages (5.24.1)\n",
            "Requirement already satisfied: python-dateutil>=2.8.2 in /usr/local/lib/python3.10/dist-packages (from pandas) (2.8.2)\n",
            "Requirement already satisfied: pytz>=2020.1 in /usr/local/lib/python3.10/dist-packages (from pandas) (2024.2)\n",
            "Requirement already satisfied: tzdata>=2022.7 in /usr/local/lib/python3.10/dist-packages (from pandas) (2024.2)\n",
            "Requirement already satisfied: contourpy>=1.0.1 in /usr/local/lib/python3.10/dist-packages (from matplotlib) (1.3.1)\n",
            "Requirement already satisfied: cycler>=0.10 in /usr/local/lib/python3.10/dist-packages (from matplotlib) (0.12.1)\n",
            "Requirement already satisfied: fonttools>=4.22.0 in /usr/local/lib/python3.10/dist-packages (from matplotlib) (4.55.3)\n",
            "Requirement already satisfied: kiwisolver>=1.0.1 in /usr/local/lib/python3.10/dist-packages (from matplotlib) (1.4.7)\n",
            "Requirement already satisfied: packaging>=20.0 in /usr/local/lib/python3.10/dist-packages (from matplotlib) (24.2)\n",
            "Requirement already satisfied: pillow>=6.2.0 in /usr/local/lib/python3.10/dist-packages (from matplotlib) (11.0.0)\n",
            "Requirement already satisfied: pyparsing>=2.3.1 in /usr/local/lib/python3.10/dist-packages (from matplotlib) (3.2.0)\n",
            "Requirement already satisfied: tenacity>=6.2.0 in /usr/local/lib/python3.10/dist-packages (from plotly) (9.0.0)\n",
            "Requirement already satisfied: six>=1.5 in /usr/local/lib/python3.10/dist-packages (from python-dateutil>=2.8.2->pandas) (1.17.0)\n"
          ]
        }
      ]
    },
    {
      "cell_type": "code",
      "source": [
        "import seaborn as sns\n",
        "import matplotlib.pyplot as plt\n",
        "\n",
        "# Filter the dataset to include only 'Male' and 'Female' respondents\n",
        "filtered_data = data[data['Gender'].isin(['Male', 'Female'])]\n",
        "\n",
        "# Create the boxplot\n",
        "sns.boxplot(x='Gender', y='Age', data=filtered_data)\n",
        "plt.title('Age Distribution by Gender')\n",
        "plt.show()\n"
      ],
      "metadata": {
        "colab": {
          "base_uri": "https://localhost:8080/",
          "height": 472
        },
        "id": "UsQyfsq0-b50",
        "outputId": "3ca3621d-2b25-4be1-e8c5-a99e40c8822c"
      },
      "execution_count": 27,
      "outputs": [
        {
          "output_type": "display_data",
          "data": {
            "text/plain": [
              "<Figure size 640x480 with 1 Axes>"
            ],
            "image/png": "[encoded data removed]"
          },
          "metadata": {}
        }
      ]
    },
    {
      "cell_type": "code",
      "source": [
        "import pandas as pd\n",
        "data = pd.read_excel('very_large_sociolinguistic_data.xlsx')\n",
        "data.head()"
      ],
      "metadata": {
        "colab": {
          "base_uri": "https://localhost:8080/",
          "height": 292
        },
        "id": "do7AQv-Z7IXQ",
        "outputId": "9b70abbe-b314-453c-c460-d025a38f2231"
      },
      "execution_count": null,
      "outputs": [
        {
          "output_type": "execute_result",
          "data": {
            "text/plain": [
              "  very_large_sociolinguistic_data Unnamed: 1         Unnamed: 2  \\\n",
              "0                   Respondent_ID        Age             Gender   \n",
              "1                               1         48  Prefer not to say   \n",
              "2                               2         60               Male   \n",
              "3                               3         56               Male   \n",
              "4                               4         43  Prefer not to say   \n",
              "\n",
              "       Unnamed: 3       Unnamed: 4                      Unnamed: 5  \\\n",
              "0  First_Language  Second_Language  Primary_Domain_of_Language_Use   \n",
              "1          Sindhi           Arabic              Religious Settings   \n",
              "2         Punjabi              NaN                   Public Spaces   \n",
              "3        Kashmiri              NaN                            Home   \n",
              "4        Kashmiri              NaN                   Public Spaces   \n",
              "\n",
              "           Unnamed: 6                   Unnamed: 7 Unnamed: 8  \\\n",
              "0  Language_Attitudes  Frequency_of_Code_Switching     Region   \n",
              "1            Negative                       Medium      Urban   \n",
              "2             Neutral                         High   Suburban   \n",
              "3            Negative                         High      Urban   \n",
              "4            Positive                        Never      Rural   \n",
              "\n",
              "            Unnamed: 9   Unnamed: 10     Unnamed: 11  \\\n",
              "0      Education_Level  Income_Level  Internet_Usage   \n",
              "1  No Formal Education          High           Never   \n",
              "2     Higher Education           Low           Never   \n",
              "3              Primary        Middle          Weekly   \n",
              "4     Higher Education          High          Weekly   \n",
              "\n",
              "                      Unnamed: 12  \n",
              "0  Preferred_Communication_Medium  \n",
              "1                  Messaging Apps  \n",
              "2                    Social Media  \n",
              "3                  Messaging Apps  \n",
              "4                          Emails  "
            ],
            "text/html": [
              "\n",
              "  <div id=\"df-a5ec1158-a3eb-4886-b05f-fe7e6d975ccc\" class=\"colab-df-container\">\n",
              "    <div>\n",
              "<style scoped>\n",
              "    .dataframe tbody tr th:only-of-type {\n",
              "        vertical-align: middle;\n",
              "    }\n",
              "\n",
              "    .dataframe tbody tr th {\n",
              "        vertical-align: top;\n",
              "    }\n",
              "\n",
              "    .dataframe thead th {\n",
              "        text-align: right;\n",
              "    }\n",
              "</style>\n",
              "<table border=\"1\" class=\"dataframe\">\n",
              "  <thead>\n",
              "    <tr style=\"text-align: right;\">\n",
              "      <th></th>\n",
              "      <th>very_large_sociolinguistic_data</th>\n",
              "      <th>Unnamed: 1</th>\n",
              "      <th>Unnamed: 2</th>\n",
              "      <th>Unnamed: 3</th>\n",
              "      <th>Unnamed: 4</th>\n",
              "      <th>Unnamed: 5</th>\n",
              "      <th>Unnamed: 6</th>\n",
              "      <th>Unnamed: 7</th>\n",
              "      <th>Unnamed: 8</th>\n",
              "      <th>Unnamed: 9</th>\n",
              "      <th>Unnamed: 10</th>\n",
              "      <th>Unnamed: 11</th>\n",
              "      <th>Unnamed: 12</th>\n",
              "    </tr>\n",
              "  </thead>\n",
              "  <tbody>\n",
              "    <tr>\n",
              "      <th>0</th>\n",
              "      <td>Respondent_ID</td>\n",
              "      <td>Age</td>\n",
              "      <td>Gender</td>\n",
              "      <td>First_Language</td>\n",
              "      <td>Second_Language</td>\n",
              "      <td>Primary_Domain_of_Language_Use</td>\n",
              "      <td>Language_Attitudes</td>\n",
              "      <td>Frequency_of_Code_Switching</td>\n",
              "      <td>Region</td>\n",
              "      <td>Education_Level</td>\n",
              "      <td>Income_Level</td>\n",
              "      <td>Internet_Usage</td>\n",
              "      <td>Preferred_Communication_Medium</td>\n",
              "    </tr>\n",
              "    <tr>\n",
              "      <th>1</th>\n",
              "      <td>1</td>\n",
              "      <td>48</td>\n",
              "      <td>Prefer not to say</td>\n",
              "      <td>Sindhi</td>\n",
              "      <td>Arabic</td>\n",
              "      <td>Religious Settings</td>\n",
              "      <td>Negative</td>\n",
              "      <td>Medium</td>\n",
              "      <td>Urban</td>\n",
              "      <td>No Formal Education</td>\n",
              "      <td>High</td>\n",
              "      <td>Never</td>\n",
              "      <td>Messaging Apps</td>\n",
              "    </tr>\n",
              "    <tr>\n",
              "      <th>2</th>\n",
              "      <td>2</td>\n",
              "      <td>60</td>\n",
              "      <td>Male</td>\n",
              "      <td>Punjabi</td>\n",
              "      <td>NaN</td>\n",
              "      <td>Public Spaces</td>\n",
              "      <td>Neutral</td>\n",
              "      <td>High</td>\n",
              "      <td>Suburban</td>\n",
              "      <td>Higher Education</td>\n",
              "      <td>Low</td>\n",
              "      <td>Never</td>\n",
              "      <td>Social Media</td>\n",
              "    </tr>\n",
              "    <tr>\n",
              "      <th>3</th>\n",
              "      <td>3</td>\n",
              "      <td>56</td>\n",
              "      <td>Male</td>\n",
              "      <td>Kashmiri</td>\n",
              "      <td>NaN</td>\n",
              "      <td>Home</td>\n",
              "      <td>Negative</td>\n",
              "      <td>High</td>\n",
              "      <td>Urban</td>\n",
              "      <td>Primary</td>\n",
              "      <td>Middle</td>\n",
              "      <td>Weekly</td>\n",
              "      <td>Messaging Apps</td>\n",
              "    </tr>\n",
              "    <tr>\n",
              "      <th>4</th>\n",
              "      <td>4</td>\n",
              "      <td>43</td>\n",
              "      <td>Prefer not to say</td>\n",
              "      <td>Kashmiri</td>\n",
              "      <td>NaN</td>\n",
              "      <td>Public Spaces</td>\n",
              "      <td>Positive</td>\n",
              "      <td>Never</td>\n",
              "      <td>Rural</td>\n",
              "      <td>Higher Education</td>\n",
              "      <td>High</td>\n",
              "      <td>Weekly</td>\n",
              "      <td>Emails</td>\n",
              "    </tr>\n",
              "  </tbody>\n",
              "</table>\n",
              "</div>\n",
              "    <div class=\"colab-df-buttons\">\n",
              "\n",
              "  <div class=\"colab-df-container\">\n",
              "    <button class=\"colab-df-convert\" onclick=\"convertToInteractive('df-a5ec1158-a3eb-4886-b05f-fe7e6d975ccc')\"\n",
              "            title=\"Convert this dataframe to an interactive table.\"\n",
              "            style=\"display:none;\">\n",
              "\n",
              "  <svg xmlns=\"http://www.w3.org/2000/svg\" height=\"24px\" viewBox=\"0 -960 960 960\">\n",
              "    <path d=\"M120-120v-720h720v720H120Zm60-500h600v-160H180v160Zm220 220h160v-160H400v160Zm0 220h160v-160H400v160ZM180-400h160v-160H180v160Zm440 0h160v-160H620v160ZM180-180h160v-160H180v160Zm440 0h160v-160H620v160Z\"/>\n",
              "  </svg>\n",
              "    </button>\n",
              "\n",
              "  <style>\n",
              "    .colab-df-container {\n",
              "      display:flex;\n",
              "      gap: 12px;\n",
              "    }\n",
              "\n",
              "    .colab-df-convert {\n",
              "      background-color: #E8F0FE;\n",
              "      border: none;\n",
              "      border-radius: 50%;\n",
              "      cursor: pointer;\n",
              "      display: none;\n",
              "      fill: #1967D2;\n",
              "      height: 32px;\n",
              "      padding: 0 0 0 0;\n",
              "      width: 32px;\n",
              "    }\n",
              "\n",
              "    .colab-df-convert:hover {\n",
              "      background-color: #E2EBFA;\n",
              "      box-shadow: 0px 1px 2px rgba(60, 64, 67, 0.3), 0px 1px 3px 1px rgba(60, 64, 67, 0.15);\n",
              "      fill: #174EA6;\n",
              "    }\n",
              "\n",
              "    .colab-df-buttons div {\n",
              "      margin-bottom: 4px;\n",
              "    }\n",
              "\n",
              "    [theme=dark] .colab-df-convert {\n",
              "      background-color: #3B4455;\n",
              "      fill: #D2E3FC;\n",
              "    }\n",
              "\n",
              "    [theme=dark] .colab-df-convert:hover {\n",
              "      background-color: #434B5C;\n",
              "      box-shadow: 0px 1px 3px 1px rgba(0, 0, 0, 0.15);\n",
              "      filter: drop-shadow(0px 1px 2px rgba(0, 0, 0, 0.3));\n",
              "      fill: #FFFFFF;\n",
              "    }\n",
              "  </style>\n",
              "\n",
              "    <script>\n",
              "      const buttonEl =\n",
              "        document.querySelector('#df-a5ec1158-a3eb-4886-b05f-fe7e6d975ccc button.colab-df-convert');\n",
              "      buttonEl.style.display =\n",
              "        google.colab.kernel.accessAllowed ? 'block' : 'none';\n",
              "\n",
              "      async function convertToInteractive(key) {\n",
              "        const element = document.querySelector('#df-a5ec1158-a3eb-4886-b05f-fe7e6d975ccc');\n",
              "        const dataTable =\n",
              "          await google.colab.kernel.invokeFunction('convertToInteractive',\n",
              "                                                    [key], {});\n",
              "        if (!dataTable) return;\n",
              "\n",
              "        const docLinkHtml = 'Like what you see? Visit the ' +\n",
              "          '<a target=\"_blank\" href=https://colab.research.google.com/notebooks/data_table.ipynb>data table notebook</a>'\n",
              "          + ' to learn more about interactive tables.';\n",
              "        element.innerHTML = '';\n",
              "        dataTable['output_type'] = 'display_data';\n",
              "        await google.colab.output.renderOutput(dataTable, element);\n",
              "        const docLink = document.createElement('div');\n",
              "        docLink.innerHTML = docLinkHtml;\n",
              "        element.appendChild(docLink);\n",
              "      }\n",
              "    </script>\n",
              "  </div>\n",
              "\n",
              "\n",
              "<div id=\"df-d8539b9d-1613-490c-8b5a-cdb5bf4ea304\">\n",
              "  <button class=\"colab-df-quickchart\" onclick=\"quickchart('df-d8539b9d-1613-490c-8b5a-cdb5bf4ea304')\"\n",
              "            title=\"Suggest charts\"\n",
              "            style=\"display:none;\">\n",
              "\n",
              "<svg xmlns=\"http://www.w3.org/2000/svg\" height=\"24px\"viewBox=\"0 0 24 24\"\n",
              "     width=\"24px\">\n",
              "    <g>\n",
              "        <path d=\"M19 3H5c-1.1 0-2 .9-2 2v14c0 1.1.9 2 2 2h14c1.1 0 2-.9 2-2V5c0-1.1-.9-2-2-2zM9 17H7v-7h2v7zm4 0h-2V7h2v10zm4 0h-2v-4h2v4z\"/>\n",
              "    </g>\n",
              "</svg>\n",
              "  </button>\n",
              "\n",
              "<style>\n",
              "  .colab-df-quickchart {\n",
              "      --bg-color: #E8F0FE;\n",
              "      --fill-color: #1967D2;\n",
              "      --hover-bg-color: #E2EBFA;\n",
              "      --hover-fill-color: #174EA6;\n",
              "      --disabled-fill-color: #AAA;\n",
              "      --disabled-bg-color: #DDD;\n",
              "  }\n",
              "\n",
              "  [theme=dark] .colab-df-quickchart {\n",
              "      --bg-color: #3B4455;\n",
              "      --fill-color: #D2E3FC;\n",
              "      --hover-bg-color: #434B5C;\n",
              "      --hover-fill-color: #FFFFFF;\n",
              "      --disabled-bg-color: #3B4455;\n",
              "      --disabled-fill-color: #666;\n",
              "  }\n",
              "\n",
              "  .colab-df-quickchart {\n",
              "    background-color: var(--bg-color);\n",
              "    border: none;\n",
              "    border-radius: 50%;\n",
              "    cursor: pointer;\n",
              "    display: none;\n",
              "    fill: var(--fill-color);\n",
              "    height: 32px;\n",
              "    padding: 0;\n",
              "    width: 32px;\n",
              "  }\n",
              "\n",
              "  .colab-df-quickchart:hover {\n",
              "    background-color: var(--hover-bg-color);\n",
              "    box-shadow: 0 1px 2px rgba(60, 64, 67, 0.3), 0 1px 3px 1px rgba(60, 64, 67, 0.15);\n",
              "    fill: var(--button-hover-fill-color);\n",
              "  }\n",
              "\n",
              "  .colab-df-quickchart-complete:disabled,\n",
              "  .colab-df-quickchart-complete:disabled:hover {\n",
              "    background-color: var(--disabled-bg-color);\n",
              "    fill: var(--disabled-fill-color);\n",
              "    box-shadow: none;\n",
              "  }\n",
              "\n",
              "  .colab-df-spinner {\n",
              "    border: 2px solid var(--fill-color);\n",
              "    border-color: transparent;\n",
              "    border-bottom-color: var(--fill-color);\n",
              "    animation:\n",
              "      spin 1s steps(1) infinite;\n",
              "  }\n",
              "\n",
              "  @keyframes spin {\n",
              "    0% {\n",
              "      border-color: transparent;\n",
              "      border-bottom-color: var(--fill-color);\n",
              "      border-left-color: var(--fill-color);\n",
              "    }\n",
              "    20% {\n",
              "      border-color: transparent;\n",
              "      border-left-color: var(--fill-color);\n",
              "      border-top-color: var(--fill-color);\n",
              "    }\n",
              "    30% {\n",
              "      border-color: transparent;\n",
              "      border-left-color: var(--fill-color);\n",
              "      border-top-color: var(--fill-color);\n",
              "      border-right-color: var(--fill-color);\n",
              "    }\n",
              "    40% {\n",
              "      border-color: transparent;\n",
              "      border-right-color: var(--fill-color);\n",
              "      border-top-color: var(--fill-color);\n",
              "    }\n",
              "    60% {\n",
              "      border-color: transparent;\n",
              "      border-right-color: var(--fill-color);\n",
              "    }\n",
              "    80% {\n",
              "      border-color: transparent;\n",
              "      border-right-color: var(--fill-color);\n",
              "      border-bottom-color: var(--fill-color);\n",
              "    }\n",
              "    90% {\n",
              "      border-color: transparent;\n",
              "      border-bottom-color: var(--fill-color);\n",
              "    }\n",
              "  }\n",
              "</style>\n",
              "\n",
              "  <script>\n",
              "    async function quickchart(key) {\n",
              "      const quickchartButtonEl =\n",
              "        document.querySelector('#' + key + ' button');\n",
              "      quickchartButtonEl.disabled = true;  // To prevent multiple clicks.\n",
              "      quickchartButtonEl.classList.add('colab-df-spinner');\n",
              "      try {\n",
              "        const charts = await google.colab.kernel.invokeFunction(\n",
              "            'suggestCharts', [key], {});\n",
              "      } catch (error) {\n",
              "        console.error('Error during call to suggestCharts:', error);\n",
              "      }\n",
              "      quickchartButtonEl.classList.remove('colab-df-spinner');\n",
              "      quickchartButtonEl.classList.add('colab-df-quickchart-complete');\n",
              "    }\n",
              "    (() => {\n",
              "      let quickchartButtonEl =\n",
              "        document.querySelector('#df-d8539b9d-1613-490c-8b5a-cdb5bf4ea304 button');\n",
              "      quickchartButtonEl.style.display =\n",
              "        google.colab.kernel.accessAllowed ? 'block' : 'none';\n",
              "    })();\n",
              "  </script>\n",
              "</div>\n",
              "\n",
              "    </div>\n",
              "  </div>\n"
            ],
            "application/vnd.google.colaboratory.intrinsic+json": {
              "type": "dataframe",
              "variable_name": "data",
              "summary": "{\n  \"name\": \"data\",\n  \"rows\": 50001,\n  \"fields\": [\n    {\n      \"column\": \"very_large_sociolinguistic_data\",\n      \"properties\": {\n        \"dtype\": \"string\",\n        \"num_unique_values\": 50001,\n        \"samples\": [\n          33553,\n          9427,\n          199\n        ],\n        \"semantic_type\": \"\",\n        \"description\": \"\"\n      }\n    },\n    {\n      \"column\": \"Unnamed: 1\",\n      \"properties\": {\n        \"dtype\": \"category\",\n        \"num_unique_values\": 54,\n        \"samples\": [\n          59,\n          50,\n          53\n        ],\n        \"semantic_type\": \"\",\n        \"description\": \"\"\n      }\n    },\n    {\n      \"column\": \"Unnamed: 2\",\n      \"properties\": {\n        \"dtype\": \"category\",\n        \"num_unique_values\": 5,\n        \"samples\": [\n          \"Prefer not to say\",\n          \"Non-Binary\",\n          \"Male\"\n        ],\n        \"semantic_type\": \"\",\n        \"description\": \"\"\n      }\n    },\n    {\n      \"column\": \"Unnamed: 3\",\n      \"properties\": {\n        \"dtype\": \"category\",\n        \"num_unique_values\": 8,\n        \"samples\": [\n          \"Sindhi\",\n          \"Saraiki\",\n          \"First_Language\"\n        ],\n        \"semantic_type\": \"\",\n        \"description\": \"\"\n      }\n    },\n    {\n      \"column\": \"Unnamed: 4\",\n      \"properties\": {\n        \"dtype\": \"category\",\n        \"num_unique_values\": 5,\n        \"samples\": [\n          \"Arabic\",\n          \"Chinese\",\n          \"English\"\n        ],\n        \"semantic_type\": \"\",\n        \"description\": \"\"\n      }\n    },\n    {\n      \"column\": \"Unnamed: 5\",\n      \"properties\": {\n        \"dtype\": \"category\",\n        \"num_unique_values\": 7,\n        \"samples\": [\n          \"Primary_Domain_of_Language_Use\",\n          \"Religious Settings\",\n          \"Work\"\n        ],\n        \"semantic_type\": \"\",\n        \"description\": \"\"\n      }\n    },\n    {\n      \"column\": \"Unnamed: 6\",\n      \"properties\": {\n        \"dtype\": \"category\",\n        \"num_unique_values\": 4,\n        \"samples\": [\n          \"Negative\",\n          \"Positive\",\n          \"Language_Attitudes\"\n        ],\n        \"semantic_type\": \"\",\n        \"description\": \"\"\n      }\n    },\n    {\n      \"column\": \"Unnamed: 7\",\n      \"properties\": {\n        \"dtype\": \"category\",\n        \"num_unique_values\": 5,\n        \"samples\": [\n          \"Medium\",\n          \"Low\",\n          \"High\"\n        ],\n        \"semantic_type\": \"\",\n        \"description\": \"\"\n      }\n    },\n    {\n      \"column\": \"Unnamed: 8\",\n      \"properties\": {\n        \"dtype\": \"category\",\n        \"num_unique_values\": 4,\n        \"samples\": [\n          \"Urban\",\n          \"Rural\",\n          \"Region\"\n        ],\n        \"semantic_type\": \"\",\n        \"description\": \"\"\n      }\n    },\n    {\n      \"column\": \"Unnamed: 9\",\n      \"properties\": {\n        \"dtype\": \"category\",\n        \"num_unique_values\": 6,\n        \"samples\": [\n          \"Education_Level\",\n          \"No Formal Education\",\n          \"Secondary\"\n        ],\n        \"semantic_type\": \"\",\n        \"description\": \"\"\n      }\n    },\n    {\n      \"column\": \"Unnamed: 10\",\n      \"properties\": {\n        \"dtype\": \"category\",\n        \"num_unique_values\": 4,\n        \"samples\": [\n          \"High\",\n          \"Middle\",\n          \"Income_Level\"\n        ],\n        \"semantic_type\": \"\",\n        \"description\": \"\"\n      }\n    },\n    {\n      \"column\": \"Unnamed: 11\",\n      \"properties\": {\n        \"dtype\": \"category\",\n        \"num_unique_values\": 5,\n        \"samples\": [\n          \"Never\",\n          \"Daily\",\n          \"Weekly\"\n        ],\n        \"semantic_type\": \"\",\n        \"description\": \"\"\n      }\n    },\n    {\n      \"column\": \"Unnamed: 12\",\n      \"properties\": {\n        \"dtype\": \"category\",\n        \"num_unique_values\": 6,\n        \"samples\": [\n          \"Preferred_Communication_Medium\",\n          \"Messaging Apps\",\n          \"Face-to-Face\"\n        ],\n        \"semantic_type\": \"\",\n        \"description\": \"\"\n      }\n    }\n  ]\n}"
            }
          },
          "metadata": {},
          "execution_count": 5
        }
      ]
    },
    {
      "source": [
        "# @title Unnamed: 5 vs Unnamed: 6\n",
        "\n",
        "from matplotlib import pyplot as plt\n",
        "import seaborn as sns\n",
        "import pandas as pd\n",
        "plt.subplots(figsize=(8, 8))\n",
        "df_2dhist = pd.DataFrame({\n",
        "    x_label: grp['Unnamed: 6'].value_counts()\n",
        "    for x_label, grp in data.groupby('Unnamed: 5')\n",
        "})\n",
        "sns.heatmap(df_2dhist, cmap='viridis')\n",
        "plt.xlabel('Unnamed: 5')\n",
        "_ = plt.ylabel('Unnamed: 6')"
      ],
      "cell_type": "code",
      "execution_count": null,
      "outputs": [
        {
          "output_type": "display_data",
          "data": {
            "text/plain": [
              "<Figure size 800x800 with 2 Axes>"
            ],
            "image/png": "[encoded data removed]"
          },
          "metadata": {}
        }
      ],
      "metadata": {
        "colab": {
          "base_uri": "https://localhost:8080/",
          "height": 926
        },
        "id": "2n9hcBOs8FQ7",
        "outputId": "9e8241d3-e7da-4066-e889-56baf64a922d"
      }
    },
    {
      "cell_type": "code",
      "source": [
        "data.isnull().sum()\n"
      ],
      "metadata": {
        "colab": {
          "base_uri": "https://localhost:8080/",
          "height": 486
        },
        "id": "CgwfXWlR8OjF",
        "outputId": "0a96757c-a3e0-4db4-9346-f105380db263"
      },
      "execution_count": null,
      "outputs": [
        {
          "output_type": "execute_result",
          "data": {
            "text/plain": [
              "very_large_sociolinguistic_data       0\n",
              "Unnamed: 1                            0\n",
              "Unnamed: 2                            0\n",
              "Unnamed: 3                            0\n",
              "Unnamed: 4                         9899\n",
              "Unnamed: 5                            0\n",
              "Unnamed: 6                            0\n",
              "Unnamed: 7                            0\n",
              "Unnamed: 8                            0\n",
              "Unnamed: 9                            0\n",
              "Unnamed: 10                           0\n",
              "Unnamed: 11                           0\n",
              "Unnamed: 12                           0\n",
              "dtype: int64"
            ],
            "text/html": [
              "<div>\n",
              "<style scoped>\n",
              "    .dataframe tbody tr th:only-of-type {\n",
              "        vertical-align: middle;\n",
              "    }\n",
              "\n",
              "    .dataframe tbody tr th {\n",
              "        vertical-align: top;\n",
              "    }\n",
              "\n",
              "    .dataframe thead th {\n",
              "        text-align: right;\n",
              "    }\n",
              "</style>\n",
              "<table border=\"1\" class=\"dataframe\">\n",
              "  <thead>\n",
              "    <tr style=\"text-align: right;\">\n",
              "      <th></th>\n",
              "      <th>0</th>\n",
              "    </tr>\n",
              "  </thead>\n",
              "  <tbody>\n",
              "    <tr>\n",
              "      <th>very_large_sociolinguistic_data</th>\n",
              "      <td>0</td>\n",
              "    </tr>\n",
              "    <tr>\n",
              "      <th>Unnamed: 1</th>\n",
              "      <td>0</td>\n",
              "    </tr>\n",
              "    <tr>\n",
              "      <th>Unnamed: 2</th>\n",
              "      <td>0</td>\n",
              "    </tr>\n",
              "    <tr>\n",
              "      <th>Unnamed: 3</th>\n",
              "      <td>0</td>\n",
              "    </tr>\n",
              "    <tr>\n",
              "      <th>Unnamed: 4</th>\n",
              "      <td>9899</td>\n",
              "    </tr>\n",
              "    <tr>\n",
              "      <th>Unnamed: 5</th>\n",
              "      <td>0</td>\n",
              "    </tr>\n",
              "    <tr>\n",
              "      <th>Unnamed: 6</th>\n",
              "      <td>0</td>\n",
              "    </tr>\n",
              "    <tr>\n",
              "      <th>Unnamed: 7</th>\n",
              "      <td>0</td>\n",
              "    </tr>\n",
              "    <tr>\n",
              "      <th>Unnamed: 8</th>\n",
              "      <td>0</td>\n",
              "    </tr>\n",
              "    <tr>\n",
              "      <th>Unnamed: 9</th>\n",
              "      <td>0</td>\n",
              "    </tr>\n",
              "    <tr>\n",
              "      <th>Unnamed: 10</th>\n",
              "      <td>0</td>\n",
              "    </tr>\n",
              "    <tr>\n",
              "      <th>Unnamed: 11</th>\n",
              "      <td>0</td>\n",
              "    </tr>\n",
              "    <tr>\n",
              "      <th>Unnamed: 12</th>\n",
              "      <td>0</td>\n",
              "    </tr>\n",
              "  </tbody>\n",
              "</table>\n",
              "</div><br><label><b>dtype:</b> int64</label>"
            ]
          },
          "metadata": {},
          "execution_count": 7
        }
      ]
    },
    {
      "cell_type": "code",
      "source": [],
      "metadata": {
        "id": "BDsGnCiJ_F9n"
      },
      "execution_count": null,
      "outputs": []
    },
    {
      "cell_type": "code",
      "source": [
        "import pandas as pd\n",
        "for col in categorical_columns:\n",
        "    data[col].fillna(data[col].mode()[0], inplace=True)\n",
        "    print(\"Missing values after filling:\")\n",
        "print(data.isnull().sum())\n"
      ],
      "metadata": {
        "colab": {
          "base_uri": "https://localhost:8080/"
        },
        "id": "Xus_LOTg-kt-",
        "outputId": "9fa48b2b-ae22-44ca-89ca-05526f53dfd7"
      },
      "execution_count": null,
      "outputs": [
        {
          "output_type": "stream",
          "name": "stderr",
          "text": [
            "<ipython-input-18-c6f9f0d84ddd>:3: UserWarning: Unable to sort modes: '<' not supported between instances of 'int' and 'str'\n",
            "  data[col].fillna(data[col].mode()[0], inplace=True)\n",
            "<ipython-input-18-c6f9f0d84ddd>:3: FutureWarning: A value is trying to be set on a copy of a DataFrame or Series through chained assignment using an inplace method.\n",
            "The behavior will change in pandas 3.0. This inplace method will never work because the intermediate object on which we are setting values always behaves as a copy.\n",
            "\n",
            "For example, when doing 'df[col].method(value, inplace=True)', try using 'df.method({col: value}, inplace=True)' or df[col] = df[col].method(value) instead, to perform the operation inplace on the original object.\n",
            "\n",
            "\n",
            "  data[col].fillna(data[col].mode()[0], inplace=True)\n"
          ]
        },
        {
          "output_type": "stream",
          "name": "stdout",
          "text": [
            "Missing values after filling:\n",
            "Missing values after filling:\n",
            "Missing values after filling:\n",
            "Missing values after filling:\n",
            "Missing values after filling:\n",
            "Missing values after filling:\n",
            "Missing values after filling:\n",
            "Missing values after filling:\n",
            "Missing values after filling:\n",
            "Missing values after filling:\n",
            "Missing values after filling:\n",
            "Missing values after filling:\n",
            "Missing values after filling:\n",
            "very_large_sociolinguistic_data    0\n",
            "Unnamed: 1                         0\n",
            "Unnamed: 2                         0\n",
            "Unnamed: 3                         0\n",
            "Unnamed: 4                         0\n",
            "Unnamed: 5                         0\n",
            "Unnamed: 6                         0\n",
            "Unnamed: 7                         0\n",
            "Unnamed: 8                         0\n",
            "Unnamed: 9                         0\n",
            "Unnamed: 10                        0\n",
            "Unnamed: 11                        0\n",
            "Unnamed: 12                        0\n",
            "dtype: int64\n"
          ]
        }
      ]
    },
    {
      "cell_type": "code",
      "source": [
        "import pandas as pd\n",
        "data = pd.read_excel('very_large_sociolinguistic_data.xlsx')\n",
        "\n",
        "numerical_columns = data.select_dtypes(include=['number']).columns\n",
        "categorical_columns = data.select_dtypes(include=['object']).columns\n",
        "\n",
        "data[numerical_columns] = data[numerical_columns].fillna(data[numerical_columns].mean())\n",
        "data[categorical_columns] = data[categorical_columns].fillna(data[categorical_columns].mode().iloc[0])\n",
        "\n",
        "print(\"Missing values after filling:\")\n",
        "print(data.isnull().sum())\n",
        "\n",
        "data[col].fillna(data[col].mode()[0], inplace=True)\n",
        "\n",
        "\n",
        "print(\"Missing values after filling:\")\n",
        "print(data.isnull().sum())"
      ],
      "metadata": {
        "colab": {
          "base_uri": "https://localhost:8080/"
        },
        "id": "Z7D8hq1LAnta",
        "outputId": "020f94ab-ea4e-47f4-a4d2-bf5b117b6bb9"
      },
      "execution_count": null,
      "outputs": [
        {
          "output_type": "stream",
          "name": "stdout",
          "text": [
            "Missing values after filling:\n",
            "very_large_sociolinguistic_data    0\n",
            "Unnamed: 1                         0\n",
            "Unnamed: 2                         0\n",
            "Unnamed: 3                         0\n",
            "Unnamed: 4                         0\n",
            "Unnamed: 5                         0\n",
            "Unnamed: 6                         0\n",
            "Unnamed: 7                         0\n",
            "Unnamed: 8                         0\n",
            "Unnamed: 9                         0\n",
            "Unnamed: 10                        0\n",
            "Unnamed: 11                        0\n",
            "Unnamed: 12                        0\n",
            "dtype: int64\n",
            "Missing values after filling:\n",
            "very_large_sociolinguistic_data    0\n",
            "Unnamed: 1                         0\n",
            "Unnamed: 2                         0\n",
            "Unnamed: 3                         0\n",
            "Unnamed: 4                         0\n",
            "Unnamed: 5                         0\n",
            "Unnamed: 6                         0\n",
            "Unnamed: 7                         0\n",
            "Unnamed: 8                         0\n",
            "Unnamed: 9                         0\n",
            "Unnamed: 10                        0\n",
            "Unnamed: 11                        0\n",
            "Unnamed: 12                        0\n",
            "dtype: int64\n"
          ]
        },
        {
          "output_type": "stream",
          "name": "stderr",
          "text": [
            "<ipython-input-19-08de62b76002>:8: UserWarning: Unable to sort modes: '<' not supported between instances of 'int' and 'str'\n",
            "  data[categorical_columns] = data[categorical_columns].fillna(data[categorical_columns].mode().iloc[0])\n",
            "<ipython-input-19-08de62b76002>:13: FutureWarning: A value is trying to be set on a copy of a DataFrame or Series through chained assignment using an inplace method.\n",
            "The behavior will change in pandas 3.0. This inplace method will never work because the intermediate object on which we are setting values always behaves as a copy.\n",
            "\n",
            "For example, when doing 'df[col].method(value, inplace=True)', try using 'df.method({col: value}, inplace=True)' or df[col] = df[col].method(value) instead, to perform the operation inplace on the original object.\n",
            "\n",
            "\n",
            "  data[col].fillna(data[col].mode()[0], inplace=True)\n"
          ]
        }
      ]
    },
    {
      "cell_type": "code",
      "source": [
        "import matplotlib.pyplot as plt\n",
        "import seaborn as sns\n",
        "\n",
        "plt.figure(figsize=(10, 6))\n",
        "sns.boxplot(data=data)\n",
        "plt.show()"
      ],
      "metadata": {
        "colab": {
          "base_uri": "https://localhost:8080/",
          "height": 528
        },
        "id": "_m4b52vjBbHZ",
        "outputId": "f53ee809-298a-4907-d739-61ac59c5724d"
      },
      "execution_count": null,
      "outputs": [
        {
          "output_type": "display_data",
          "data": {
            "text/plain": [
              "<Figure size 1000x600 with 1 Axes>"
            ],
            "image/png": "[encoded data removed]"
          },
          "metadata": {}
        }
      ]
    },
    {
      "cell_type": "code",
      "source": [
        "data.describe()"
      ],
      "metadata": {
        "colab": {
          "base_uri": "https://localhost:8080/",
          "height": 227
        },
        "id": "GjH-Oj0hBquU",
        "outputId": "ab6a454c-8703-4d18-ac8f-23d5c38daa6f"
      },
      "execution_count": null,
      "outputs": [
        {
          "output_type": "execute_result",
          "data": {
            "text/plain": [
              "       very_large_sociolinguistic_data  Unnamed: 1  Unnamed: 2 Unnamed: 3  \\\n",
              "count                            50001       50001       50001      50001   \n",
              "unique                           50001          54           5          8   \n",
              "top                      Respondent_ID          42  Non-Binary    Saraiki   \n",
              "freq                                 1         997       12588       7277   \n",
              "\n",
              "       Unnamed: 4          Unnamed: 5 Unnamed: 6 Unnamed: 7 Unnamed: 8  \\\n",
              "count       50001               50001      50001      50001      50001   \n",
              "unique          5                   7          4          5          4   \n",
              "top        French  Religious Settings    Neutral       High      Rural   \n",
              "freq        19982                8490      16728      12629      16728   \n",
              "\n",
              "                 Unnamed: 9 Unnamed: 10 Unnamed: 11   Unnamed: 12  \n",
              "count                 50001       50001       50001         50001  \n",
              "unique                    6           4           5             6  \n",
              "top     Vocational Training         Low      Weekly  Face-to-Face  \n",
              "freq                  10079       16733       12600         10101  "
            ],
            "text/html": [
              "\n",
              "  <div id=\"df-c6a52dbd-6c27-46c5-ab90-e06f7d652cda\" class=\"colab-df-container\">\n",
              "    <div>\n",
              "<style scoped>\n",
              "    .dataframe tbody tr th:only-of-type {\n",
              "        vertical-align: middle;\n",
              "    }\n",
              "\n",
              "    .dataframe tbody tr th {\n",
              "        vertical-align: top;\n",
              "    }\n",
              "\n",
              "    .dataframe thead th {\n",
              "        text-align: right;\n",
              "    }\n",
              "</style>\n",
              "<table border=\"1\" class=\"dataframe\">\n",
              "  <thead>\n",
              "    <tr style=\"text-align: right;\">\n",
              "      <th></th>\n",
              "      <th>very_large_sociolinguistic_data</th>\n",
              "      <th>Unnamed: 1</th>\n",
              "      <th>Unnamed: 2</th>\n",
              "      <th>Unnamed: 3</th>\n",
              "      <th>Unnamed: 4</th>\n",
              "      <th>Unnamed: 5</th>\n",
              "      <th>Unnamed: 6</th>\n",
              "      <th>Unnamed: 7</th>\n",
              "      <th>Unnamed: 8</th>\n",
              "      <th>Unnamed: 9</th>\n",
              "      <th>Unnamed: 10</th>\n",
              "      <th>Unnamed: 11</th>\n",
              "      <th>Unnamed: 12</th>\n",
              "    </tr>\n",
              "  </thead>\n",
              "  <tbody>\n",
              "    <tr>\n",
              "      <th>count</th>\n",
              "      <td>50001</td>\n",
              "      <td>50001</td>\n",
              "      <td>50001</td>\n",
              "      <td>50001</td>\n",
              "      <td>50001</td>\n",
              "      <td>50001</td>\n",
              "      <td>50001</td>\n",
              "      <td>50001</td>\n",
              "      <td>50001</td>\n",
              "      <td>50001</td>\n",
              "      <td>50001</td>\n",
              "      <td>50001</td>\n",
              "      <td>50001</td>\n",
              "    </tr>\n",
              "    <tr>\n",
              "      <th>unique</th>\n",
              "      <td>50001</td>\n",
              "      <td>54</td>\n",
              "      <td>5</td>\n",
              "      <td>8</td>\n",
              "      <td>5</td>\n",
              "      <td>7</td>\n",
              "      <td>4</td>\n",
              "      <td>5</td>\n",
              "      <td>4</td>\n",
              "      <td>6</td>\n",
              "      <td>4</td>\n",
              "      <td>5</td>\n",
              "      <td>6</td>\n",
              "    </tr>\n",
              "    <tr>\n",
              "      <th>top</th>\n",
              "      <td>Respondent_ID</td>\n",
              "      <td>42</td>\n",
              "      <td>Non-Binary</td>\n",
              "      <td>Saraiki</td>\n",
              "      <td>French</td>\n",
              "      <td>Religious Settings</td>\n",
              "      <td>Neutral</td>\n",
              "      <td>High</td>\n",
              "      <td>Rural</td>\n",
              "      <td>Vocational Training</td>\n",
              "      <td>Low</td>\n",
              "      <td>Weekly</td>\n",
              "      <td>Face-to-Face</td>\n",
              "    </tr>\n",
              "    <tr>\n",
              "      <th>freq</th>\n",
              "      <td>1</td>\n",
              "      <td>997</td>\n",
              "      <td>12588</td>\n",
              "      <td>7277</td>\n",
              "      <td>19982</td>\n",
              "      <td>8490</td>\n",
              "      <td>16728</td>\n",
              "      <td>12629</td>\n",
              "      <td>16728</td>\n",
              "      <td>10079</td>\n",
              "      <td>16733</td>\n",
              "      <td>12600</td>\n",
              "      <td>10101</td>\n",
              "    </tr>\n",
              "  </tbody>\n",
              "</table>\n",
              "</div>\n",
              "    <div class=\"colab-df-buttons\">\n",
              "\n",
              "  <div class=\"colab-df-container\">\n",
              "    <button class=\"colab-df-convert\" onclick=\"convertToInteractive('df-c6a52dbd-6c27-46c5-ab90-e06f7d652cda')\"\n",
              "            title=\"Convert this dataframe to an interactive table.\"\n",
              "            style=\"display:none;\">\n",
              "\n",
              "  <svg xmlns=\"http://www.w3.org/2000/svg\" height=\"24px\" viewBox=\"0 -960 960 960\">\n",
              "    <path d=\"M120-120v-720h720v720H120Zm60-500h600v-160H180v160Zm220 220h160v-160H400v160Zm0 220h160v-160H400v160ZM180-400h160v-160H180v160Zm440 0h160v-160H620v160ZM180-180h160v-160H180v160Zm440 0h160v-160H620v160Z\"/>\n",
              "  </svg>\n",
              "    </button>\n",
              "\n",
              "  <style>\n",
              "    .colab-df-container {\n",
              "      display:flex;\n",
              "      gap: 12px;\n",
              "    }\n",
              "\n",
              "    .colab-df-convert {\n",
              "      background-color: #E8F0FE;\n",
              "      border: none;\n",
              "      border-radius: 50%;\n",
              "      cursor: pointer;\n",
              "      display: none;\n",
              "      fill: #1967D2;\n",
              "      height: 32px;\n",
              "      padding: 0 0 0 0;\n",
              "      width: 32px;\n",
              "    }\n",
              "\n",
              "    .colab-df-convert:hover {\n",
              "      background-color: #E2EBFA;\n",
              "      box-shadow: 0px 1px 2px rgba(60, 64, 67, 0.3), 0px 1px 3px 1px rgba(60, 64, 67, 0.15);\n",
              "      fill: #174EA6;\n",
              "    }\n",
              "\n",
              "    .colab-df-buttons div {\n",
              "      margin-bottom: 4px;\n",
              "    }\n",
              "\n",
              "    [theme=dark] .colab-df-convert {\n",
              "      background-color: #3B4455;\n",
              "      fill: #D2E3FC;\n",
              "    }\n",
              "\n",
              "    [theme=dark] .colab-df-convert:hover {\n",
              "      background-color: #434B5C;\n",
              "      box-shadow: 0px 1px 3px 1px rgba(0, 0, 0, 0.15);\n",
              "      filter: drop-shadow(0px 1px 2px rgba(0, 0, 0, 0.3));\n",
              "      fill: #FFFFFF;\n",
              "    }\n",
              "  </style>\n",
              "\n",
              "    <script>\n",
              "      const buttonEl =\n",
              "        document.querySelector('#df-c6a52dbd-6c27-46c5-ab90-e06f7d652cda button.colab-df-convert');\n",
              "      buttonEl.style.display =\n",
              "        google.colab.kernel.accessAllowed ? 'block' : 'none';\n",
              "\n",
              "      async function convertToInteractive(key) {\n",
              "        const element = document.querySelector('#df-c6a52dbd-6c27-46c5-ab90-e06f7d652cda');\n",
              "        const dataTable =\n",
              "          await google.colab.kernel.invokeFunction('convertToInteractive',\n",
              "                                                    [key], {});\n",
              "        if (!dataTable) return;\n",
              "\n",
              "        const docLinkHtml = 'Like what you see? Visit the ' +\n",
              "          '<a target=\"_blank\" href=https://colab.research.google.com/notebooks/data_table.ipynb>data table notebook</a>'\n",
              "          + ' to learn more about interactive tables.';\n",
              "        element.innerHTML = '';\n",
              "        dataTable['output_type'] = 'display_data';\n",
              "        await google.colab.output.renderOutput(dataTable, element);\n",
              "        const docLink = document.createElement('div');\n",
              "        docLink.innerHTML = docLinkHtml;\n",
              "        element.appendChild(docLink);\n",
              "      }\n",
              "    </script>\n",
              "  </div>\n",
              "\n",
              "\n",
              "<div id=\"df-e366b40b-e4c2-488f-accd-6a5b5945d715\">\n",
              "  <button class=\"colab-df-quickchart\" onclick=\"quickchart('df-e366b40b-e4c2-488f-accd-6a5b5945d715')\"\n",
              "            title=\"Suggest charts\"\n",
              "            style=\"display:none;\">\n",
              "\n",
              "<svg xmlns=\"http://www.w3.org/2000/svg\" height=\"24px\"viewBox=\"0 0 24 24\"\n",
              "     width=\"24px\">\n",
              "    <g>\n",
              "        <path d=\"M19 3H5c-1.1 0-2 .9-2 2v14c0 1.1.9 2 2 2h14c1.1 0 2-.9 2-2V5c0-1.1-.9-2-2-2zM9 17H7v-7h2v7zm4 0h-2V7h2v10zm4 0h-2v-4h2v4z\"/>\n",
              "    </g>\n",
              "</svg>\n",
              "  </button>\n",
              "\n",
              "<style>\n",
              "  .colab-df-quickchart {\n",
              "      --bg-color: #E8F0FE;\n",
              "      --fill-color: #1967D2;\n",
              "      --hover-bg-color: #E2EBFA;\n",
              "      --hover-fill-color: #174EA6;\n",
              "      --disabled-fill-color: #AAA;\n",
              "      --disabled-bg-color: #DDD;\n",
              "  }\n",
              "\n",
              "  [theme=dark] .colab-df-quickchart {\n",
              "      --bg-color: #3B4455;\n",
              "      --fill-color: #D2E3FC;\n",
              "      --hover-bg-color: #434B5C;\n",
              "      --hover-fill-color: #FFFFFF;\n",
              "      --disabled-bg-color: #3B4455;\n",
              "      --disabled-fill-color: #666;\n",
              "  }\n",
              "\n",
              "  .colab-df-quickchart {\n",
              "    background-color: var(--bg-color);\n",
              "    border: none;\n",
              "    border-radius: 50%;\n",
              "    cursor: pointer;\n",
              "    display: none;\n",
              "    fill: var(--fill-color);\n",
              "    height: 32px;\n",
              "    padding: 0;\n",
              "    width: 32px;\n",
              "  }\n",
              "\n",
              "  .colab-df-quickchart:hover {\n",
              "    background-color: var(--hover-bg-color);\n",
              "    box-shadow: 0 1px 2px rgba(60, 64, 67, 0.3), 0 1px 3px 1px rgba(60, 64, 67, 0.15);\n",
              "    fill: var(--button-hover-fill-color);\n",
              "  }\n",
              "\n",
              "  .colab-df-quickchart-complete:disabled,\n",
              "  .colab-df-quickchart-complete:disabled:hover {\n",
              "    background-color: var(--disabled-bg-color);\n",
              "    fill: var(--disabled-fill-color);\n",
              "    box-shadow: none;\n",
              "  }\n",
              "\n",
              "  .colab-df-spinner {\n",
              "    border: 2px solid var(--fill-color);\n",
              "    border-color: transparent;\n",
              "    border-bottom-color: var(--fill-color);\n",
              "    animation:\n",
              "      spin 1s steps(1) infinite;\n",
              "  }\n",
              "\n",
              "  @keyframes spin {\n",
              "    0% {\n",
              "      border-color: transparent;\n",
              "      border-bottom-color: var(--fill-color);\n",
              "      border-left-color: var(--fill-color);\n",
              "    }\n",
              "    20% {\n",
              "      border-color: transparent;\n",
              "      border-left-color: var(--fill-color);\n",
              "      border-top-color: var(--fill-color);\n",
              "    }\n",
              "    30% {\n",
              "      border-color: transparent;\n",
              "      border-left-color: var(--fill-color);\n",
              "      border-top-color: var(--fill-color);\n",
              "      border-right-color: var(--fill-color);\n",
              "    }\n",
              "    40% {\n",
              "      border-color: transparent;\n",
              "      border-right-color: var(--fill-color);\n",
              "      border-top-color: var(--fill-color);\n",
              "    }\n",
              "    60% {\n",
              "      border-color: transparent;\n",
              "      border-right-color: var(--fill-color);\n",
              "    }\n",
              "    80% {\n",
              "      border-color: transparent;\n",
              "      border-right-color: var(--fill-color);\n",
              "      border-bottom-color: var(--fill-color);\n",
              "    }\n",
              "    90% {\n",
              "      border-color: transparent;\n",
              "      border-bottom-color: var(--fill-color);\n",
              "    }\n",
              "  }\n",
              "</style>\n",
              "\n",
              "  <script>\n",
              "    async function quickchart(key) {\n",
              "      const quickchartButtonEl =\n",
              "        document.querySelector('#' + key + ' button');\n",
              "      quickchartButtonEl.disabled = true;  // To prevent multiple clicks.\n",
              "      quickchartButtonEl.classList.add('colab-df-spinner');\n",
              "      try {\n",
              "        const charts = await google.colab.kernel.invokeFunction(\n",
              "            'suggestCharts', [key], {});\n",
              "      } catch (error) {\n",
              "        console.error('Error during call to suggestCharts:', error);\n",
              "      }\n",
              "      quickchartButtonEl.classList.remove('colab-df-spinner');\n",
              "      quickchartButtonEl.classList.add('colab-df-quickchart-complete');\n",
              "    }\n",
              "    (() => {\n",
              "      let quickchartButtonEl =\n",
              "        document.querySelector('#df-e366b40b-e4c2-488f-accd-6a5b5945d715 button');\n",
              "      quickchartButtonEl.style.display =\n",
              "        google.colab.kernel.accessAllowed ? 'block' : 'none';\n",
              "    })();\n",
              "  </script>\n",
              "</div>\n",
              "\n",
              "    </div>\n",
              "  </div>\n"
            ],
            "application/vnd.google.colaboratory.intrinsic+json": {
              "type": "dataframe",
              "summary": "{\n  \"name\": \"data\",\n  \"rows\": 4,\n  \"fields\": [\n    {\n      \"column\": \"very_large_sociolinguistic_data\",\n      \"properties\": {\n        \"dtype\": \"string\",\n        \"num_unique_values\": 3,\n        \"samples\": [\n          \"50001\",\n          \"Respondent_ID\",\n          \"1\"\n        ],\n        \"semantic_type\": \"\",\n        \"description\": \"\"\n      }\n    },\n    {\n      \"column\": \"Unnamed: 1\",\n      \"properties\": {\n        \"dtype\": \"number\",\n        \"std\": 24822,\n        \"min\": 42,\n        \"max\": 50001,\n        \"num_unique_values\": 4,\n        \"samples\": [\n          54,\n          997,\n          50001\n        ],\n        \"semantic_type\": \"\",\n        \"description\": \"\"\n      }\n    },\n    {\n      \"column\": \"Unnamed: 2\",\n      \"properties\": {\n        \"dtype\": \"string\",\n        \"num_unique_values\": 4,\n        \"samples\": [\n          5,\n          \"12588\",\n          \"50001\"\n        ],\n        \"semantic_type\": \"\",\n        \"description\": \"\"\n      }\n    },\n    {\n      \"column\": \"Unnamed: 3\",\n      \"properties\": {\n        \"dtype\": \"string\",\n        \"num_unique_values\": 4,\n        \"samples\": [\n          8,\n          \"7277\",\n          \"50001\"\n        ],\n        \"semantic_type\": \"\",\n        \"description\": \"\"\n      }\n    },\n    {\n      \"column\": \"Unnamed: 4\",\n      \"properties\": {\n        \"dtype\": \"string\",\n        \"num_unique_values\": 4,\n        \"samples\": [\n          5,\n          \"19982\",\n          \"50001\"\n        ],\n        \"semantic_type\": \"\",\n        \"description\": \"\"\n      }\n    },\n    {\n      \"column\": \"Unnamed: 5\",\n      \"properties\": {\n        \"dtype\": \"string\",\n        \"num_unique_values\": 4,\n        \"samples\": [\n          7,\n          \"8490\",\n          \"50001\"\n        ],\n        \"semantic_type\": \"\",\n        \"description\": \"\"\n      }\n    },\n    {\n      \"column\": \"Unnamed: 6\",\n      \"properties\": {\n        \"dtype\": \"string\",\n        \"num_unique_values\": 4,\n        \"samples\": [\n          4,\n          \"16728\",\n          \"50001\"\n        ],\n        \"semantic_type\": \"\",\n        \"description\": \"\"\n      }\n    },\n    {\n      \"column\": \"Unnamed: 7\",\n      \"properties\": {\n        \"dtype\": \"string\",\n        \"num_unique_values\": 4,\n        \"samples\": [\n          5,\n          \"12629\",\n          \"50001\"\n        ],\n        \"semantic_type\": \"\",\n        \"description\": \"\"\n      }\n    },\n    {\n      \"column\": \"Unnamed: 8\",\n      \"properties\": {\n        \"dtype\": \"string\",\n        \"num_unique_values\": 4,\n        \"samples\": [\n          4,\n          \"16728\",\n          \"50001\"\n        ],\n        \"semantic_type\": \"\",\n        \"description\": \"\"\n      }\n    },\n    {\n      \"column\": \"Unnamed: 9\",\n      \"properties\": {\n        \"dtype\": \"string\",\n        \"num_unique_values\": 4,\n        \"samples\": [\n          6,\n          \"10079\",\n          \"50001\"\n        ],\n        \"semantic_type\": \"\",\n        \"description\": \"\"\n      }\n    },\n    {\n      \"column\": \"Unnamed: 10\",\n      \"properties\": {\n        \"dtype\": \"string\",\n        \"num_unique_values\": 4,\n        \"samples\": [\n          4,\n          \"16733\",\n          \"50001\"\n        ],\n        \"semantic_type\": \"\",\n        \"description\": \"\"\n      }\n    },\n    {\n      \"column\": \"Unnamed: 11\",\n      \"properties\": {\n        \"dtype\": \"string\",\n        \"num_unique_values\": 4,\n        \"samples\": [\n          5,\n          \"12600\",\n          \"50001\"\n        ],\n        \"semantic_type\": \"\",\n        \"description\": \"\"\n      }\n    },\n    {\n      \"column\": \"Unnamed: 12\",\n      \"properties\": {\n        \"dtype\": \"string\",\n        \"num_unique_values\": 4,\n        \"samples\": [\n          6,\n          \"10101\",\n          \"50001\"\n        ],\n        \"semantic_type\": \"\",\n        \"description\": \"\"\n      }\n    }\n  ]\n}"
            }
          },
          "metadata": {},
          "execution_count": 21
        }
      ]
    },
    {
      "cell_type": "code",
      "source": [
        "print(data.select_dtypes(include=['number']).head())"
      ],
      "metadata": {
        "colab": {
          "base_uri": "https://localhost:8080/"
        },
        "id": "r5ooMGigJ6eS",
        "outputId": "07270031-d98f-4260-dacd-c292f7df0ccd"
      },
      "execution_count": null,
      "outputs": [
        {
          "output_type": "stream",
          "name": "stdout",
          "text": [
            "Empty DataFrame\n",
            "Columns: []\n",
            "Index: [0, 1, 2, 3, 4]\n"
          ]
        }
      ]
    },
    {
      "cell_type": "code",
      "source": [
        "import pandas as pd\n",
        "\n",
        "numerical_means = data.select_dtypes(include=['number']).mean()\n",
        "\n"
      ],
      "metadata": {
        "id": "hjcgln5uKJcW"
      },
      "execution_count": null,
      "outputs": []
    },
    {
      "cell_type": "code",
      "source": [
        "import pandas as pd\n",
        "data = pd.read_excel('very_large_sociolinguistic_data.xlsx')\n",
        "numerical_columns = data.select_dtypes(include=['number']).columns\n",
        "non_numerical_columns = data.select_dtypes(exclude=['number']).columns\n",
        "data[numerical_columns] = data[numerical_columns].fillna(data[numerical_columns].mean())\n",
        "for col in non_numerical_columns:\n",
        "    data[col].fillna(data[col].mode()[0], inplace=True)\n",
        "    print(\"Missing values after filling:\")\n",
        "print(data.isnull().sum())"
      ],
      "metadata": {
        "colab": {
          "base_uri": "https://localhost:8080/"
        },
        "id": "RwAZECuFMaxV",
        "outputId": "1785f5ab-3582-455e-be03-bcd4b3204f3f"
      },
      "execution_count": null,
      "outputs": [
        {
          "output_type": "stream",
          "name": "stdout",
          "text": [
            "Missing values after filling:\n",
            "Missing values after filling:\n",
            "Missing values after filling:\n",
            "Missing values after filling:\n",
            "Missing values after filling:\n",
            "Missing values after filling:\n",
            "Missing values after filling:\n",
            "Missing values after filling:\n",
            "Missing values after filling:\n",
            "Missing values after filling:\n",
            "Missing values after filling:\n",
            "Missing values after filling:\n",
            "Missing values after filling:\n",
            "very_large_sociolinguistic_data    0\n",
            "Unnamed: 1                         0\n",
            "Unnamed: 2                         0\n",
            "Unnamed: 3                         0\n",
            "Unnamed: 4                         0\n",
            "Unnamed: 5                         0\n",
            "Unnamed: 6                         0\n",
            "Unnamed: 7                         0\n",
            "Unnamed: 8                         0\n",
            "Unnamed: 9                         0\n",
            "Unnamed: 10                        0\n",
            "Unnamed: 11                        0\n",
            "Unnamed: 12                        0\n",
            "dtype: int64\n"
          ]
        },
        {
          "output_type": "stream",
          "name": "stderr",
          "text": [
            "<ipython-input-39-c9812e42b88c>:7: UserWarning: Unable to sort modes: '<' not supported between instances of 'int' and 'str'\n",
            "  data[col].fillna(data[col].mode()[0], inplace=True)\n",
            "<ipython-input-39-c9812e42b88c>:7: FutureWarning: A value is trying to be set on a copy of a DataFrame or Series through chained assignment using an inplace method.\n",
            "The behavior will change in pandas 3.0. This inplace method will never work because the intermediate object on which we are setting values always behaves as a copy.\n",
            "\n",
            "For example, when doing 'df[col].method(value, inplace=True)', try using 'df.method({col: value}, inplace=True)' or df[col] = df[col].method(value) instead, to perform the operation inplace on the original object.\n",
            "\n",
            "\n",
            "  data[col].fillna(data[col].mode()[0], inplace=True)\n"
          ]
        }
      ]
    },
    {
      "cell_type": "code",
      "source": [
        "import pandas as pd\n",
        "data = pd.read_excel('very_large_sociolinguistic_data.xlsx')\n",
        "print(\"Column names:\", data.columns)\n",
        "grouping_column = 'Unnamed 5'  # Replace with the actual column name\n",
        "if grouping_column in data.columns:\n",
        "    data[grouping_column] = data[grouping_column].fillna('Unknown')\n",
        "    grouped_data = data.groupby(grouping_column).mean()\n",
        "    print(grouped_data)\n",
        "else:\n",
        "    print(f\"Column '{grouping_column}' does not exist in the dataset.\")"
      ],
      "metadata": {
        "colab": {
          "base_uri": "https://localhost:8080/"
        },
        "id": "wZJXN9atN90f",
        "outputId": "0b8421d2-77dc-4aa4-e325-243456858761"
      },
      "execution_count": null,
      "outputs": [
        {
          "output_type": "stream",
          "name": "stdout",
          "text": [
            "Column names: Index(['very_large_sociolinguistic_data', 'Unnamed: 1', 'Unnamed: 2',\n",
            "       'Unnamed: 3', 'Unnamed: 4', 'Unnamed: 5', 'Unnamed: 6', 'Unnamed: 7',\n",
            "       'Unnamed: 8', 'Unnamed: 9', 'Unnamed: 10', 'Unnamed: 11',\n",
            "       'Unnamed: 12'],\n",
            "      dtype='object')\n",
            "Column 'Unnamed 5' does not exist in the dataset.\n"
          ]
        }
      ]
    },
    {
      "cell_type": "code",
      "source": [
        "import pandas as pd\n",
        "data = pd.read_excel('very_large_sociolinguistic_data.xlsx')\n",
        "print(data.columns)"
      ],
      "metadata": {
        "colab": {
          "base_uri": "https://localhost:8080/"
        },
        "id": "QhaKS-NaOZkQ",
        "outputId": "bbb3c17a-35b8-4dc3-df9c-53523ea027b9"
      },
      "execution_count": null,
      "outputs": [
        {
          "output_type": "stream",
          "name": "stdout",
          "text": [
            "Index(['very_large_sociolinguistic_data', 'Unnamed: 1', 'Unnamed: 2',\n",
            "       'Unnamed: 3', 'Unnamed: 4', 'Unnamed: 5', 'Unnamed: 6', 'Unnamed: 7',\n",
            "       'Unnamed: 8', 'Unnamed: 9', 'Unnamed: 10', 'Unnamed: 11',\n",
            "       'Unnamed: 12'],\n",
            "      dtype='object')\n"
          ]
        }
      ]
    },
    {
      "cell_type": "code",
      "source": [
        "import pandas as pd\n",
        "import matplotlib.pyplot as plt\n",
        "import seaborn as sns\n",
        "data = pd.read_excel('very_large_sociolinguistic_data.xlsx')\n",
        "print(\"Columns:\", data.columns)\n",
        "hist_column = 'column_name'  # Replace with actual column name for histogram\n",
        "scatter_x = 'column_Unnamed 5'  # Replace with actual column name for scatter plot X-axis\n",
        "scatter_y = 'column_y'  # Replace with actual column name for scatter plot Y-axis\n"
      ],
      "metadata": {
        "colab": {
          "base_uri": "https://localhost:8080/"
        },
        "id": "_xf8H3d-PWfV",
        "outputId": "178a7c30-1bc7-4719-deb5-640813e1063f"
      },
      "execution_count": null,
      "outputs": [
        {
          "output_type": "stream",
          "name": "stdout",
          "text": [
            "Columns: Index(['very_large_sociolinguistic_data', 'Unnamed: 1', 'Unnamed: 2',\n",
            "       'Unnamed: 3', 'Unnamed: 4', 'Unnamed: 5', 'Unnamed: 6', 'Unnamed: 7',\n",
            "       'Unnamed: 8', 'Unnamed: 9', 'Unnamed: 10', 'Unnamed: 11',\n",
            "       'Unnamed: 12'],\n",
            "      dtype='object')\n"
          ]
        }
      ]
    },
    {
      "cell_type": "code",
      "source": [
        "import pandas as pd\n",
        "import matplotlib.pyplot as plt\n",
        "import seaborn as sns\n",
        "data = pd.read_excel('very_large_sociolinguistic_data.xlsx')\n",
        "print(\"Columns:\", data.columns)\n",
        "hist_column = 'column_name'  # Replace with actual column name for histogram\n",
        "scatter_x = 'column_Unnamed 5'  # Replace with actual column name for scatter plot X-axis\n",
        "scatter_y = 'column_Unnamed 6'  # Replace with actual column name for scatter plot Y-axis\n",
        "\n",
        "\n"
      ],
      "metadata": {
        "colab": {
          "base_uri": "https://localhost:8080/"
        },
        "id": "hPyNXYskPtpj",
        "outputId": "2c80ee40-094b-4b68-e0e5-2ded7d058754"
      },
      "execution_count": null,
      "outputs": [
        {
          "output_type": "stream",
          "name": "stdout",
          "text": [
            "Columns: Index(['very_large_sociolinguistic_data', 'Unnamed: 1', 'Unnamed: 2',\n",
            "       'Unnamed: 3', 'Unnamed: 4', 'Unnamed: 5', 'Unnamed: 6', 'Unnamed: 7',\n",
            "       'Unnamed: 8', 'Unnamed: 9', 'Unnamed: 10', 'Unnamed: 11',\n",
            "       'Unnamed: 12'],\n",
            "      dtype='object')\n"
          ]
        }
      ]
    },
    {
      "cell_type": "code",
      "source": [
        "import pandas as pd\n",
        "import plotly.express as px\n",
        "\n",
        "# Load the data\n",
        "data = pd.read_excel('very_large_sociolinguistic_data.xlsx')\n",
        "\n",
        "# Strip spaces from column names\n",
        "data.columns = data.columns.str.strip()\n",
        "\n",
        "# Rename 'Unnamed: 1' to 'new_column_name' (adjust if needed)\n",
        "data.rename(columns={'Unnamed: 1': 'new_column_name'}, inplace=True)\n",
        "\n",
        "# Scatter Plot using Plotly Express\n",
        "scatter_x = '1'  # Replace with your actual column name\n",
        "scatter_y = '2'  # Replace with your actual column name\n",
        "scatter_color = '3'  # Replace with your actual column name\n",
        "\n",
        "# Check if columns exist before plotting\n",
        "if scatter_x in data.columns and scatter_y in data.columns and scatter_color in data.columns:\n",
        "    fig = px.scatter(data, x=scatter_x, y=scatter_y, color=scatter_color)\n",
        "    fig.update_layout(title=f'Scatter Plot of {scatter_x} vs {scatter_y} (Colored by {scatter_color})',\n",
        "                      xaxis_title=scatter_x,\n",
        "                      yaxis_title=scatter_y)\n",
        "    fig.show()\n",
        "else:\n",
        "    missing_cols = [col for col in [scatter_x, scatter_y, scatter_color] if col not in data.columns]\n",
        "    print(f\"Column(s) {missing_cols} not found for scatter plot.\")"
      ],
      "metadata": {
        "colab": {
          "base_uri": "https://localhost:8080/"
        },
        "id": "PcNYHz9rl9a-",
        "outputId": "5f1001d1-163b-4414-b994-656bc0ef6c46"
      },
      "execution_count": null,
      "outputs": [
        {
          "output_type": "stream",
          "name": "stdout",
          "text": [
            "Column(s) ['1', '2', '3'] not found for scatter plot.\n"
          ]
        }
      ]
    },
    {
      "cell_type": "code",
      "source": [
        "import pandas as pd\n",
        "\n",
        "# Reload the dataset, using the second row as the header\n",
        "data = pd.read_excel('very_large_sociolinguistic_data.xlsx', header=1)\n",
        "\n",
        "# Check column names and data to confirm the fix\n",
        "print(\"Updated Columns:\", data.columns)\n",
        "print(data.head())"
      ],
      "metadata": {
        "colab": {
          "base_uri": "https://localhost:8080/"
        },
        "id": "YB--l4w39Nby",
        "outputId": "8270a515-136b-4e95-e4c5-0c47716d8443"
      },
      "execution_count": 23,
      "outputs": [
        {
          "output_type": "stream",
          "name": "stdout",
          "text": [
            "Updated Columns: Index(['Respondent_ID', 'Age', 'Gender', 'First_Language', 'Second_Language',\n",
            "       'Primary_Domain_of_Language_Use', 'Language_Attitudes',\n",
            "       'Frequency_of_Code_Switching', 'Region', 'Education_Level',\n",
            "       'Income_Level', 'Internet_Usage', 'Preferred_Communication_Medium'],\n",
            "      dtype='object')\n",
            "   Respondent_ID  Age             Gender First_Language Second_Language  \\\n",
            "0              1   48  Prefer not to say         Sindhi          Arabic   \n",
            "1              2   60               Male        Punjabi             NaN   \n",
            "2              3   56               Male       Kashmiri             NaN   \n",
            "3              4   43  Prefer not to say       Kashmiri             NaN   \n",
            "4              5   52             Female       Kashmiri         English   \n",
            "\n",
            "  Primary_Domain_of_Language_Use Language_Attitudes  \\\n",
            "0             Religious Settings           Negative   \n",
            "1                  Public Spaces            Neutral   \n",
            "2                           Home           Negative   \n",
            "3                  Public Spaces           Positive   \n",
            "4             Religious Settings            Neutral   \n",
            "\n",
            "  Frequency_of_Code_Switching    Region      Education_Level Income_Level  \\\n",
            "0                      Medium     Urban  No Formal Education         High   \n",
            "1                        High  Suburban     Higher Education          Low   \n",
            "2                        High     Urban              Primary       Middle   \n",
            "3                       Never     Rural     Higher Education         High   \n",
            "4                      Medium  Suburban     Higher Education          Low   \n",
            "\n",
            "  Internet_Usage Preferred_Communication_Medium  \n",
            "0          Never                 Messaging Apps  \n",
            "1          Never                   Social Media  \n",
            "2         Weekly                 Messaging Apps  \n",
            "3         Weekly                         Emails  \n",
            "4          Never                    Phone Calls  \n"
          ]
        }
      ]
    },
    {
      "cell_type": "code",
      "source": [
        "print(\"Columns in the dataset:\", data.columns)\n"
      ],
      "metadata": {
        "colab": {
          "base_uri": "https://localhost:8080/"
        },
        "id": "kh-co7IY96lL",
        "outputId": "621f85ca-6d42-4c47-b8b8-f6e9f81f16ea"
      },
      "execution_count": 24,
      "outputs": [
        {
          "output_type": "stream",
          "name": "stdout",
          "text": [
            "Columns in the dataset: Index(['Respondent_ID', 'Age', 'Gender', 'First_Language', 'Second_Language',\n",
            "       'Primary_Domain_of_Language_Use', 'Language_Attitudes',\n",
            "       'Frequency_of_Code_Switching', 'Region', 'Education_Level',\n",
            "       'Income_Level', 'Internet_Usage', 'Preferred_Communication_Medium'],\n",
            "      dtype='object')\n"
          ]
        }
      ]
    },
    {
      "cell_type": "code",
      "source": [
        "import matplotlib.pyplot as plt\n",
        "import seaborn as sns\n",
        "\n",
        "# Define column names for the plots\n",
        "hist_column = 'Age'\n",
        "scatter_x = 'Primary_Domain_of_Language_Use'\n",
        "scatter_y = 'Frequency_of_Code_Switching'\n",
        "\n",
        "# Handle missing values\n",
        "data[hist_column] = data[hist_column].fillna(0)\n",
        "data[scatter_x] = data[scatter_x].fillna('Unknown')\n",
        "data[scatter_y] = data[scatter_y].fillna('Never')\n",
        "\n",
        "# Plot Histogram\n",
        "data[hist_column].hist(bins=30, edgecolor='black')\n",
        "plt.title('Age Distribution')\n",
        "plt.xlabel('Age')\n",
        "plt.ylabel('Frequency')\n",
        "plt.show()\n",
        "\n",
        "# Plot Scatter Plot\n",
        "sns.scatterplot(x=scatter_x, y=scatter_y, data=data)\n",
        "plt.title('Scatter Plot of Language Domain vs. Code Switching Frequency')\n",
        "plt.xlabel('Primary Domain of Language Use')\n",
        "plt.ylabel('Frequency of Code Switching')\n",
        "plt.xticks(rotation=45)\n",
        "plt.show()\n"
      ],
      "metadata": {
        "colab": {
          "base_uri": "https://localhost:8080/",
          "height": 1000
        },
        "id": "JH4F4aLV980K",
        "outputId": "0fd08036-de8a-4873-97ce-54954c7660eb"
      },
      "execution_count": 25,
      "outputs": [
        {
          "output_type": "display_data",
          "data": {
            "text/plain": [
              "<Figure size 640x480 with 1 Axes>"
            ],
            "image/png": "[encoded data removed]"
          },
          "metadata": {}
        },
        {
          "output_type": "display_data",
          "data": {
            "text/plain": [
              "<Figure size 640x480 with 1 Axes>"
            ],
            "image/png": "[encoded data removed]"
          },
          "metadata": {}
        }
      ]
    }
  ]
}